{
 "cells": [
  {
   "cell_type": "markdown",
   "metadata": {},
   "source": [
    "# Computing the embeddings\n",
    "\n",
    "- just a toy example with a tiny corpus (`corpus.txt`, 1000 text articles)"
   ]
  },
  {
   "cell_type": "code",
   "execution_count": null,
   "metadata": {},
   "outputs": [],
   "source": [
    "import os\n",
    "import fasttext"
   ]
  },
  {
   "cell_type": "code",
   "execution_count": null,
   "metadata": {},
   "outputs": [],
   "source": [
    "epochs = 10\n",
    "min_count = 2\n",
    "n_dims = 300\n",
    "max_vocab = 20000\n",
    "\n",
    "n_threads = 8  # match your machine"
   ]
  },
  {
   "cell_type": "code",
   "execution_count": null,
   "metadata": {},
   "outputs": [],
   "source": [
    "print(f'Training FastText with {n_threads} threads')\n",
    "\n",
    "model = fasttext.train_unsupervised(\n",
    "    'corpus.txt',\n",
    "    model='cbow',  #'skipgram'\n",
    "    dim=n_dims,\n",
    "    ws=5,\n",
    "    epoch=epochs,\n",
    "    minCount=min_count,\n",
    "    thread=n_threads\n",
    ")\n",
    "print(f'FastText: epochs {epochs}, dims {n_dims}, max_vocab {max_vocab},' f'model words {len(model.words)}')"
   ]
  },
  {
   "cell_type": "code",
   "execution_count": null,
   "metadata": {
    "collapsed": false,
    "jupyter": {
     "outputs_hidden": false
    }
   },
   "outputs": [],
   "source": [
    "embeddings_file = 'new_embeddings.txt'\n",
    "\n",
    "# Save FastText embeddings as txt in the same format used by Gensim/Spacy.\n",
    "# - https://stackoverflow.com/a/58342618/3248063\n",
    "# - https://github.com/facebookresearch/fastText/blob/master/python/doc/examples/bin_to_vec.py\n",
    "\n",
    "if max_vocab > len(model.words):  # alternative: len(model.get_words())\n",
    "    words = model.words[:max_vocab]\n",
    "else:\n",
    "    words = model.words\n",
    "\n",
    "with open(embeddings_file, 'w') as f:\n",
    "    # write file header like: 11995 300\n",
    "    f.write(f'{len(words)} {model.get_dimension()}\\n')\n",
    "\n",
    "    for w in words:\n",
    "        v = model.get_word_vector(w)\n",
    "        v_str = f'{w} {\" \".join([str(dim) for dim in v])}'\n",
    "        f.write(v_str + '\\n')\n",
    "\n",
    "print(f'Finished writing embeddings to {embeddings_file}')"
   ]
  },
  {
   "cell_type": "code",
   "execution_count": null,
   "metadata": {},
   "outputs": [],
   "source": []
  }
 ],
 "metadata": {
  "kernelspec": {
   "display_name": "Python 3 (ipykernel)",
   "language": "python",
   "name": "python3"
  },
  "language_info": {
   "codemirror_mode": {
    "name": "ipython",
    "version": 3
   },
   "file_extension": ".py",
   "mimetype": "text/x-python",
   "name": "python",
   "nbconvert_exporter": "python",
   "pygments_lexer": "ipython3",
   "version": "3.11.4"
  }
 },
 "nbformat": 4,
 "nbformat_minor": 4
}
