{
 "cells": [
  {
   "cell_type": "code",
   "execution_count": null,
   "id": "7d9708a2",
   "metadata": {
    "collapsed": false,
    "jupyter": {
     "outputs_hidden": false
    }
   },
   "outputs": [],
   "source": [
    "!pip install wheel setuptools"
   ]
  },
  {
   "cell_type": "code",
   "execution_count": null,
   "id": "08127021",
   "metadata": {
    "collapsed": false,
    "jupyter": {
     "outputs_hidden": false
    }
   },
   "outputs": [],
   "source": [
    "!pip install \"spacy[lookups]\""
   ]
  },
  {
   "cell_type": "markdown",
   "id": "17a33bc9",
   "metadata": {},
   "source": [
    "Optional: download and install the official SpaCy models"
   ]
  },
  {
   "cell_type": "code",
   "execution_count": null,
   "id": "c0bd5d7d",
   "metadata": {},
   "outputs": [],
   "source": [
    "# large official model, best accuracy\n",
    "# !python -m spacy download nb_core_news_lg"
   ]
  },
  {
   "cell_type": "code",
   "execution_count": null,
   "id": "3bd6f620-5618-402e-9557-79c0d552ac8e",
   "metadata": {
    "scrolled": true
   },
   "outputs": [],
   "source": [
    "# medium-size official model, 40MB \n",
    "# !python -m spacy download nb_core_news_md"
   ]
  },
  {
   "cell_type": "code",
   "execution_count": null,
   "id": "11f48255-d89d-418f-a82b-30f1f66d0e99",
   "metadata": {},
   "outputs": [],
   "source": [
    "!pip install fasttext"
   ]
  }
 ],
 "metadata": {
  "environment": {
   "kernel": "python3",
   "name": "common-cpu.m112",
   "type": "gcloud",
   "uri": "gcr.io/deeplearning-platform-release/base-cpu:m112"
  },
  "kernelspec": {
   "display_name": "Python 3 (ipykernel)",
   "language": "python",
   "name": "python3"
  },
  "language_info": {
   "codemirror_mode": {
    "name": "ipython",
    "version": 3
   },
   "file_extension": ".py",
   "mimetype": "text/x-python",
   "name": "python",
   "nbconvert_exporter": "python",
   "pygments_lexer": "ipython3",
   "version": "3.11.4"
  }
 },
 "nbformat": 4,
 "nbformat_minor": 5
}
